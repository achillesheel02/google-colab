{
  "nbformat": 4,
  "nbformat_minor": 0,
  "metadata": {
    "colab": {
      "name": "contact_tracing.ipynb",
      "provenance": [],
      "mount_file_id": "1VZH64E0nYJmHAbDPFHO9wyOGJiYI5CpN",
      "authorship_tag": "ABX9TyOJRZOog8nCmVkYYhXQTIin",
      "include_colab_link": true
    },
    "kernelspec": {
      "name": "python3",
      "display_name": "Python 3"
    },
    "language_info": {
      "name": "python"
    }
  },
  "cells": [
    {
      "cell_type": "markdown",
      "metadata": {
        "id": "view-in-github",
        "colab_type": "text"
      },
      "source": [
        "<a href=\"https://colab.research.google.com/github/achillesheel02/google-colab/blob/main/contact_tracing.ipynb\" target=\"_parent\"><img src=\"https://colab.research.google.com/assets/colab-badge.svg\" alt=\"Open In Colab\"/></a>"
      ]
    },
    {
      "cell_type": "code",
      "metadata": {
        "id": "2Tf1-p288EmA"
      },
      "source": [
        "from datetime import datetime\n",
        "import re\n",
        "import json\n",
        "import folium\n",
        "from ast import literal_eval as make_tuple"
      ],
      "execution_count": 1,
      "outputs": []
    },
    {
      "cell_type": "code",
      "metadata": {
        "id": "8oqOz4fF8M3M"
      },
      "source": [
        "    with open('location_history.txt', 'r') as f:\n",
        "      locations = [make_tuple(string) for string in [ f[:-1] for f in f.readlines()] ]\n",
        "      locations = sorted(locations, key=lambda location: location[0])\n",
        "    "
      ],
      "execution_count": 7,
      "outputs": []
    },
    {
      "cell_type": "code",
      "metadata": {
        "colab": {
          "base_uri": "https://localhost:8080/"
        },
        "id": "63I0Ydj_8TRC",
        "outputId": "9d5eefe0-cc34-4bd8-b5aa-255703ec1ac5"
      },
      "source": [
        "for location in locations:\n",
        "  print(location)"
      ],
      "execution_count": 9,
      "outputs": [
        {
          "output_type": "stream",
          "text": [
            "('2021-02-01 18:29:56', 'Ngong Road Forest Sanctuary')\n",
            "('2021-02-02 13:12:27', '14 Riverside')\n",
            "('2021-02-02 16:14:52', 'Marula Mercantile')\n",
            "('2021-02-03 16:42:10', 'Michael Joseph Centre ')\n",
            "('2021-02-03 16:42:12', 'The Mall Westlands')\n",
            "('2021-02-03 16:51:11', 'Purdy Arms ')\n",
            "('2021-02-03 17:10:47', 'Hunters Car Wash')\n",
            "('2021-02-04 08:14:42', 'Titanic Hotel')\n",
            "('2021-02-04 16:56:35', 'Sarit Centre')\n",
            "('2021-02-04 18:40:34', 'KFC Woodvale')\n",
            "('2021-02-04 18:50:27', 'Purdy Arms ')\n",
            "('2021-02-04 20:47:53', 'Hypnotica')\n",
            "('2021-02-05 16:55:55', 'Kenpoly')\n",
            "('2021-02-05 20:49:06', 'Chiromo Hospital Group')\n",
            "('2021-02-06 12:56:50', 'Kaldis Coffee House')\n",
            "('2021-02-06 17:29:15', \"Nairobi Hospital Doctor's Plaza \")\n",
            "('2021-02-07 11:58:04', 'Newscafe Adlife')\n",
            "('2021-02-07 12:37:01', 'Naiserian Drive ')\n",
            "('2021-02-07 12:40:03', 'The Hub Karen')\n",
            "('2021-02-07 13:16:01', 'Karen Business Park')\n",
            "('2021-02-07 13:42:21', 'Kenyatta Market ')\n",
            "('2021-02-07 19:03:30', 'Eka Hotel ')\n",
            "('2021-02-08 16:13:42', 'Crystal Court ')\n",
            "('2021-02-08 16:15:15', 'Crystal Court ')\n",
            "('2021-02-09 08:21:20', 'Titanic Hotel')\n",
            "('2021-02-09 16:43:05', 'Steers Restaurant Wabera')\n",
            "('2021-02-10 16:47:23', 'Kaldis Coffee House')\n",
            "('2021-02-10 17:47:18', 'Kolani Village')\n",
            "('2021-02-11 13:26:34', 'Barclays Plaza')\n",
            "('2021-02-11 20:14:17', \"Charlies's Kitchen \")\n",
            "('2021-02-12 17:02:34', 'Crystal Court ')\n",
            "('2021-02-12 17:03:30', 'Crystal Court ')\n",
            "('2021-02-12 17:05:47', 'Crystal Court ')\n",
            "('2021-02-12 18:28:27', 'Purdy Arms ')\n",
            "('2021-02-12 20:32:56', 'Purdy Arms ')\n",
            "('2021-02-13 10:34:07', 'Prestige Plaza')\n",
            "('2021-02-13 16:44:54', 'Purdy Arms ')\n",
            "('2021-02-13 17:06:45', 'Kaldis Coffee House')\n",
            "('2021-02-13 18:42:08', 'Karen Plains Arcade')\n",
            "('2021-02-13 18:57:57', 'Light Academy Nairobi')\n",
            "('2021-02-13 19:26:00', 'Light Academy Nairobi')\n",
            "('2021-02-13 20:22:46', 'Light Academy Nairobi')\n",
            "('2021-02-13 20:44:21', 'Light Academy Nairobi')\n",
            "('2021-02-14 13:50:33', 'Kaldis Coffee House')\n",
            "('2021-02-14 15:57:22', 'Chez Sonia ')\n",
            "('2021-02-14 16:38:19', 'Nation Media Group Limited')\n",
            "('2021-02-14 16:47:23', 'Sheria House')\n",
            "('2021-02-14 16:56:49', 'Yaya Centre')\n",
            "('2021-02-15 08:46:13', 'Titanic Hotel')\n",
            "('2021-02-15 16:48:00', 'Nakumatt South C ')\n",
            "('2021-02-15 17:30:44', 'Kolani Village')\n",
            "('2021-02-16 18:46:40', 'Nailab')\n",
            "('2021-02-17 16:28:08', 'Kencom')\n",
            "('2021-02-17 17:44:45', \"Nairobi Hospital Doctor's Plaza \")\n",
            "('2021-02-18 16:45:14', 'Strathmore University')\n",
            "('2021-02-18 20:33:24', 'The Junction Mall')\n",
            "('2021-02-19 17:42:55', 'Forest View Road')\n",
            "('2021-02-20 08:59:43', 'Prestige Plaza')\n",
            "('2021-02-20 10:37:16', \"Nairobi Hospital Doctor's Plaza \")\n",
            "('2021-02-20 14:00:36', 'Kaldis Coffee House')\n",
            "('2021-02-20 17:40:56', 'Java House Capital Centre')\n",
            "('2021-02-20 17:55:14', 'Eka Hotel ')\n",
            "('2021-02-20 18:20:44', 'Eka Hotel ')\n",
            "('2021-02-20 19:40:43', 'Eka Hotel ')\n",
            "('2021-02-20 19:41:35', 'Eka Hotel ')\n",
            "('2021-02-21 09:34:54', 'Equity Bank Kimathi')\n",
            "('2021-02-21 09:36:48', 'Chiromo Hospital Group')\n",
            "('2021-02-21 19:41:19', 'Santack Estate')\n",
            "('2021-02-23 16:20:32', 'Oryx Hotel')\n",
            "('2021-02-23 16:27:31', \"Nairobi Hospital Doctor's Plaza \")\n",
            "('2021-02-23 19:08:46', 'Purdy Arms ')\n",
            "('2021-02-24 21:01:28', 'Clay Oven Restaurant')\n",
            "('2021-02-24 21:08:06', 'Clay Oven Restaurant')\n",
            "('2021-02-25 10:26:48', 'Galleria Mall')\n",
            "('2021-02-25 10:54:55', 'Jiweke Tavern ')\n",
            "('2021-02-25 18:48:32', 'Fortis Towers')\n",
            "('2021-02-26 13:18:39', 'Uchumi House')\n",
            "('2021-02-26 13:19:06', 'Thika Road Mall ')\n",
            "('2021-02-26 13:55:34', 'Purdy Arms ')\n",
            "('2021-02-26 16:10:52', 'Bima Court ')\n",
            "('2021-02-26 17:54:48', 'Waterfront Gardens Estate ')\n",
            "('2021-02-26 20:35:53', 'Purdy Arms ')\n",
            "('2021-02-28 11:37:35', 'Kaldis Coffee House')\n",
            "('2021-02-28 11:50:32', 'Java House Capital Centre')\n",
            "('2021-02-28 12:27:45', 'Avenue Park 2 Estate')\n",
            "('2021-02-28 14:15:05', 'Imenti House')\n",
            "('2021-02-28 14:33:36', \"Nairobi Hospital Doctor's Plaza \")\n"
          ],
          "name": "stdout"
        }
      ]
    }
  ]
}