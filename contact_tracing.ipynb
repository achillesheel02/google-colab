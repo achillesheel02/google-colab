{
  "nbformat": 4,
  "nbformat_minor": 0,
  "metadata": {
    "colab": {
      "name": "Untitled0.ipynb",
      "provenance": [],
      "mount_file_id": "1VZH64E0nYJmHAbDPFHO9wyOGJiYI5CpN",
      "authorship_tag": "ABX9TyNX2pJlmPQtc8W+pq3tx78a",
      "include_colab_link": true
    },
    "kernelspec": {
      "name": "python3",
      "display_name": "Python 3"
    },
    "language_info": {
      "name": "python"
    }
  },
  "cells": [
    {
      "cell_type": "markdown",
      "metadata": {
        "id": "view-in-github",
        "colab_type": "text"
      },
      "source": [
        "<a href=\"https://colab.research.google.com/github/achillesheel02/google-colab/blob/main/contact_tracing.ipynb\" target=\"_parent\"><img src=\"https://colab.research.google.com/assets/colab-badge.svg\" alt=\"Open In Colab\"/></a>"
      ]
    },
    {
      "cell_type": "code",
      "metadata": {
        "id": "2Tf1-p288EmA"
      },
      "source": [
        "from datetime import datetime\n",
        "import re\n",
        "import json\n",
        "import folium\n",
        "from ast import literal_eval as make_tuple"
      ],
      "execution_count": 1,
      "outputs": []
    },
    {
      "cell_type": "code",
      "metadata": {
        "id": "8oqOz4fF8M3M"
      },
      "source": [
        "    with open('location_history.txt', 'r') as f:\n",
        "      locations = [make_tuple(string) for string in [ f[:-1] for f in f.readlines()] ]\n",
        "    "
      ],
      "execution_count": 3,
      "outputs": []
    },
    {
      "cell_type": "code",
      "metadata": {
        "colab": {
          "base_uri": "https://localhost:8080/"
        },
        "id": "63I0Ydj_8TRC",
        "outputId": "5d3ffbce-eeca-49a2-c53b-5c5ee37658af"
      },
      "source": [
        "print(locations)"
      ],
      "execution_count": 5,
      "outputs": [
        {
          "output_type": "stream",
          "text": [
            "[('2021-02-28 14:33:36', \"Nairobi Hospital Doctor's Plaza \"), ('2021-02-28 14:15:05', 'Imenti House'), ('2021-02-28 12:27:45', 'Avenue Park 2 Estate'), ('2021-02-28 11:50:32', 'Java House Capital Centre'), ('2021-02-28 11:37:35', 'Kaldis Coffee House'), ('2021-02-26 20:35:53', 'Purdy Arms '), ('2021-02-26 17:54:48', 'Waterfront Gardens Estate '), ('2021-02-26 16:10:52', 'Bima Court '), ('2021-02-26 13:55:34', 'Purdy Arms '), ('2021-02-26 13:19:06', 'Thika Road Mall '), ('2021-02-26 13:18:39', 'Uchumi House'), ('2021-02-25 18:48:32', 'Fortis Towers'), ('2021-02-25 10:54:55', 'Jiweke Tavern '), ('2021-02-25 10:26:48', 'Galleria Mall'), ('2021-02-24 21:08:06', 'Clay Oven Restaurant'), ('2021-02-24 21:01:28', 'Clay Oven Restaurant'), ('2021-02-23 19:08:46', 'Purdy Arms '), ('2021-02-23 16:27:31', \"Nairobi Hospital Doctor's Plaza \"), ('2021-02-23 16:20:32', 'Oryx Hotel'), ('2021-02-21 19:41:19', 'Santack Estate'), ('2021-02-21 09:36:48', 'Chiromo Hospital Group'), ('2021-02-21 09:34:54', 'Equity Bank Kimathi'), ('2021-02-20 19:41:35', 'Eka Hotel '), ('2021-02-20 19:40:43', 'Eka Hotel '), ('2021-02-20 18:20:44', 'Eka Hotel '), ('2021-02-20 17:55:14', 'Eka Hotel '), ('2021-02-20 17:40:56', 'Java House Capital Centre'), ('2021-02-20 14:00:36', 'Kaldis Coffee House'), ('2021-02-20 10:37:16', \"Nairobi Hospital Doctor's Plaza \"), ('2021-02-20 08:59:43', 'Prestige Plaza'), ('2021-02-19 17:42:55', 'Forest View Road'), ('2021-02-18 20:33:24', 'The Junction Mall'), ('2021-02-18 16:45:14', 'Strathmore University'), ('2021-02-17 17:44:45', \"Nairobi Hospital Doctor's Plaza \"), ('2021-02-17 16:28:08', 'Kencom'), ('2021-02-16 18:46:40', 'Nailab'), ('2021-02-15 17:30:44', 'Kolani Village'), ('2021-02-15 16:48:00', 'Nakumatt South C '), ('2021-02-15 08:46:13', 'Titanic Hotel'), ('2021-02-14 16:56:49', 'Yaya Centre'), ('2021-02-14 16:47:23', 'Sheria House'), ('2021-02-14 16:38:19', 'Nation Media Group Limited'), ('2021-02-14 15:57:22', 'Chez Sonia '), ('2021-02-14 13:50:33', 'Kaldis Coffee House'), ('2021-02-13 20:44:21', 'Light Academy Nairobi'), ('2021-02-13 20:22:46', 'Light Academy Nairobi'), ('2021-02-13 19:26:00', 'Light Academy Nairobi'), ('2021-02-13 18:57:57', 'Light Academy Nairobi'), ('2021-02-13 18:42:08', 'Karen Plains Arcade'), ('2021-02-13 17:06:45', 'Kaldis Coffee House'), ('2021-02-13 16:44:54', 'Purdy Arms '), ('2021-02-13 10:34:07', 'Prestige Plaza'), ('2021-02-12 20:32:56', 'Purdy Arms '), ('2021-02-12 18:28:27', 'Purdy Arms '), ('2021-02-12 17:05:47', 'Crystal Court '), ('2021-02-12 17:03:30', 'Crystal Court '), ('2021-02-12 17:02:34', 'Crystal Court '), ('2021-02-11 20:14:17', \"Charlies's Kitchen \"), ('2021-02-11 13:26:34', 'Barclays Plaza'), ('2021-02-10 17:47:18', 'Kolani Village'), ('2021-02-10 16:47:23', 'Kaldis Coffee House'), ('2021-02-09 16:43:05', 'Steers Restaurant Wabera'), ('2021-02-09 08:21:20', 'Titanic Hotel'), ('2021-02-08 16:15:15', 'Crystal Court '), ('2021-02-08 16:13:42', 'Crystal Court '), ('2021-02-07 19:03:30', 'Eka Hotel '), ('2021-02-07 13:42:21', 'Kenyatta Market '), ('2021-02-07 13:16:01', 'Karen Business Park'), ('2021-02-07 12:40:03', 'The Hub Karen'), ('2021-02-07 12:37:01', 'Naiserian Drive '), ('2021-02-07 11:58:04', 'Newscafe Adlife'), ('2021-02-06 17:29:15', \"Nairobi Hospital Doctor's Plaza \"), ('2021-02-06 12:56:50', 'Kaldis Coffee House'), ('2021-02-05 20:49:06', 'Chiromo Hospital Group'), ('2021-02-05 16:55:55', 'Kenpoly'), ('2021-02-04 20:47:53', 'Hypnotica'), ('2021-02-04 18:50:27', 'Purdy Arms '), ('2021-02-04 18:40:34', 'KFC Woodvale'), ('2021-02-04 16:56:35', 'Sarit Centre'), ('2021-02-04 08:14:42', 'Titanic Hotel'), ('2021-02-03 17:10:47', 'Hunters Car Wash'), ('2021-02-03 16:51:11', 'Purdy Arms '), ('2021-02-03 16:42:12', 'The Mall Westlands'), ('2021-02-03 16:42:10', 'Michael Joseph Centre '), ('2021-02-02 16:14:52', 'Marula Mercantile'), ('2021-02-02 13:12:27', '14 Riverside'), ('2021-02-01 18:29:56', 'Ngong Road Forest Sanctuary')]\n"
          ],
          "name": "stdout"
        }
      ]
    }
  ]
}